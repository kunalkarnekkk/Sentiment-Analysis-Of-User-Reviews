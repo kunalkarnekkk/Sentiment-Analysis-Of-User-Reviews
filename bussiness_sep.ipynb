{
 "cells": [
  {
   "cell_type": "code",
   "execution_count": 1,
   "id": "1f092d07-2528-4113-ab68-f4bfc4c4a76c",
   "metadata": {},
   "outputs": [
    {
     "data": {
      "text/plain": [
       "True"
      ]
     },
     "execution_count": 1,
     "metadata": {},
     "output_type": "execute_result"
    }
   ],
   "source": [
    "import numpy as np\n",
    "import pandas as pd\n",
    "import matplotlib.pyplot as plt\n",
    "%matplotlib inline\n",
    "from matplotlib.colors import ListedColormap\n",
    "import seaborn as sns\n",
    "import re\n",
    "from sklearn.metrics import accuracy_score\n",
    "from sklearn.model_selection import train_test_split\n",
    "from sklearn.naive_bayes import GaussianNB\n",
    "from sklearn import svm\n",
    "from sklearn import tree\n",
    "from sklearn.neighbors import KNeighborsClassifier\n",
    "from sklearn.linear_model import LogisticRegression\n",
    "from sklearn.feature_extraction.text import CountVectorizer\n",
    "from sklearn.neural_network import MLPClassifier\n",
    "from sklearn.preprocessing import StandardScaler\n",
    "from sklearn.feature_extraction.text import TfidfVectorizer\n",
    "import nltk\n",
    "from nltk import pos_tag, pos_tag_sents\n",
    "\n",
    "from nltk.stem.wordnet import WordNetLemmatizer\n",
    "from nltk.corpus import sentiwordnet as swn\n",
    "import tensorflow as tf\n",
    "from nltk.stem import WordNetLemmatizer\n",
    "from nltk.corpus import wordnet as wn\n",
    "from nltk.corpus import sentiwordnet as swn\n",
    "from nltk import sent_tokenize, word_tokenize, pos_tag\n",
    "from nltk.corpus import stopwords, wordnet as wn\n",
    "from nltk.tokenize import word_tokenize, sent_tokenize\n",
    "from nltk.stem import WordNetLemmatizer\n",
    "from nltk.corpus import sentiwordnet as swn\n",
    "import pandas as pd\n",
    "\n",
    "# Download necessary NLTK data\n",
    "nltk.download('punkt', quiet=True)\n",
    "nltk.download('averaged_perceptron_tagger', quiet=True)\n",
    "nltk.download('wordnet', quiet=True)\n",
    "nltk.download('stopwords', quiet=True)\n",
    "nltk.download('sentiwordnet', quiet=True)"
   ]
  },
  {
   "cell_type": "code",
   "execution_count": 3,
   "id": "9dc0d411-18e3-4aa2-be05-ed138507a7aa",
   "metadata": {},
   "outputs": [
    {
     "name": "stderr",
     "output_type": "stream",
     "text": [
      "C:\\Users\\Kunal Karne\\AppData\\Local\\Temp\\ipykernel_16176\\2798303258.py:1: DtypeWarning: Columns (38,41) have mixed types. Specify dtype option on import or set low_memory=False.\n",
      "  df=pd.read_csv(\"one.csv\",on_bad_lines=\"skip\")\n"
     ]
    }
   ],
   "source": [
    "df=pd.read_csv(\"one.csv\",on_bad_lines=\"skip\")"
   ]
  },
  {
   "cell_type": "code",
   "execution_count": 4,
   "id": "6f37ba9a-17bb-46cd-88bf-891025c491c3",
   "metadata": {},
   "outputs": [
    {
     "data": {
      "text/plain": [
       "(150345, 58)"
      ]
     },
     "execution_count": 4,
     "metadata": {},
     "output_type": "execute_result"
    }
   ],
   "source": [
    "df.shape"
   ]
  },
  {
   "cell_type": "code",
   "execution_count": 5,
   "id": "e083cb45-845e-426e-9116-c6427c2b6279",
   "metadata": {},
   "outputs": [
    {
     "data": {
      "text/plain": [
       "Index(['address', 'business_id', 'categories', 'city', 'is_open', 'latitude',\n",
       "       'longitude', 'name', 'postal_code', 'review_count', 'stars', 'state',\n",
       "       'attributes_AcceptsInsurance', 'attributes_AgesAllowed',\n",
       "       'attributes_Alcohol', 'attributes_Ambience', 'attributes_BYOB',\n",
       "       'attributes_BYOBCorkage', 'attributes_BestNights',\n",
       "       'attributes_BikeParking', 'attributes_BusinessAcceptsBitcoin',\n",
       "       'attributes_BusinessAcceptsCreditCards', 'attributes_BusinessParking',\n",
       "       'attributes_ByAppointmentOnly', 'attributes_Caters',\n",
       "       'attributes_CoatCheck', 'attributes_Corkage',\n",
       "       'attributes_DietaryRestrictions', 'attributes_DogsAllowed',\n",
       "       'attributes_DriveThru', 'attributes_GoodForDancing',\n",
       "       'attributes_GoodForKids', 'attributes_GoodForMeal',\n",
       "       'attributes_HairSpecializesIn', 'attributes_HappyHour',\n",
       "       'attributes_HasTV', 'attributes_Music', 'attributes_NoiseLevel',\n",
       "       'attributes_Open24Hours', 'attributes_OutdoorSeating',\n",
       "       'attributes_RestaurantsAttire', 'attributes_RestaurantsCounterService',\n",
       "       'attributes_RestaurantsDelivery', 'attributes_RestaurantsGoodForGroups',\n",
       "       'attributes_RestaurantsPriceRange2',\n",
       "       'attributes_RestaurantsReservations',\n",
       "       'attributes_RestaurantsTableService', 'attributes_RestaurantsTakeOut',\n",
       "       'attributes_Smoking', 'attributes_WheelchairAccessible',\n",
       "       'attributes_WiFi', 'hours_Friday', 'hours_Monday', 'hours_Saturday',\n",
       "       'hours_Sunday', 'hours_Thursday', 'hours_Tuesday', 'hours_Wednesday'],\n",
       "      dtype='object')"
      ]
     },
     "execution_count": 5,
     "metadata": {},
     "output_type": "execute_result"
    }
   ],
   "source": [
    "df.columns"
   ]
  },
  {
   "cell_type": "code",
   "execution_count": 6,
   "id": "a8597a1a-b797-4c1e-a471-9980cb7fb25a",
   "metadata": {},
   "outputs": [
    {
     "data": {
      "text/plain": [
       "0     Doctors, Traditional Chinese Medicine, Naturop...\n",
       "1     Shipping Centers, Local Services, Notaries, Ma...\n",
       "2     Department Stores, Shopping, Fashion, Home & G...\n",
       "3     Restaurants, Food, Bubble Tea, Coffee & Tea, B...\n",
       "4                             Brewpubs, Breweries, Food\n",
       "5     Burgers, Fast Food, Sandwiches, Food, Ice Crea...\n",
       "6     Sporting Goods, Fashion, Shoe Stores, Shopping...\n",
       "7                   Synagogues, Religious Organizations\n",
       "8     Pubs, Restaurants, Italian, Bars, American (Tr...\n",
       "9     Ice Cream & Frozen Yogurt, Fast Food, Burgers,...\n",
       "10                 Department Stores, Shopping, Fashion\n",
       "11           Vietnamese, Food, Restaurants, Food Trucks\n",
       "12    American (Traditional), Restaurants, Diners, B...\n",
       "13    General Dentistry, Dentists, Health & Medical,...\n",
       "14          Food, Delis, Italian, Bakeries, Restaurants\n",
       "15                    Sushi Bars, Restaurants, Japanese\n",
       "16    Automotive, Auto Parts & Supplies, Auto Custom...\n",
       "17    Vape Shops, Tobacco Shops, Personal Shopping, ...\n",
       "18    Automotive, Car Rental, Hotels & Travel, Truck...\n",
       "19                                  Korean, Restaurants\n",
       "20    Coffee & Tea, Food, Cafes, Bars, Wine Bars, Re...\n",
       "21     Shopping, Books, Mags, Music & Video, Bookstores\n",
       "22               Steakhouses, Asian Fusion, Restaurants\n",
       "23                                 Restaurants, Italian\n",
       "24                                Hot Dogs, Restaurants\n",
       "25      Pet Services, Pet Groomers, Pets, Veterinarians\n",
       "26    Women's Clothing, Accessories, Children's Clot...\n",
       "27                       Restaurants, Japanese, Seafood\n",
       "28    Cocktail Bars, Bars, Italian, Nightlife, Resta...\n",
       "29        Pizza, Chicken Wings, Sandwiches, Restaurants\n",
       "30                        Trampoline Parks, Active Life\n",
       "31                      Pizza, Restaurants, Salad, Soup\n",
       "32    Dance Wear, Sports Wear, Children's Clothing, ...\n",
       "33                                   Pizza, Restaurants\n",
       "34    Event Planning & Services, Hotels, Hotels & Tr...\n",
       "35    Eatertainment, Arts & Entertainment, Brewpubs,...\n",
       "36                                 Restaurants, Burgers\n",
       "37    Mobile Phones, Telecommunications, Electronics...\n",
       "38    Museums, Kids Activities, Arts & Entertainment...\n",
       "39    Musicians, DJs, Karaoke, Event Planning & Serv...\n",
       "40    Hair Salons, Hair Extensions, Beauty & Spas, W...\n",
       "41    Restaurants, Specialty Food, Steakhouses, Food...\n",
       "42    DUI Law, Professional Services, Lawyers, Crimi...\n",
       "43    Health & Medical, Beauty & Spas, Laser Hair Re...\n",
       "44    Fashion, Shopping, Department Stores, Furnitur...\n",
       "45                                 Restaurants, Chinese\n",
       "46    Arts & Entertainment, Music Venues, Internet S...\n",
       "47    Coffee & Tea, Restaurants, Wine Bars, Bars, Ni...\n",
       "48                     Shipping Centers, Local Services\n",
       "49                                 Restaurants, Italian\n",
       "Name: categories, dtype: object"
      ]
     },
     "execution_count": 6,
     "metadata": {},
     "output_type": "execute_result"
    }
   ],
   "source": [
    "df['categories'].head(50)"
   ]
  },
  {
   "cell_type": "code",
   "execution_count": 10,
   "id": "d17f0369-83d9-4a21-b7c4-e58b0c929b7a",
   "metadata": {},
   "outputs": [
    {
     "data": {
      "text/plain": [
       "address                                    5127\n",
       "business_id                                   0\n",
       "categories                                  103\n",
       "city                                          0\n",
       "is_open                                       0\n",
       "latitude                                      0\n",
       "longitude                                     0\n",
       "name                                          0\n",
       "postal_code                                  73\n",
       "review_count                                  0\n",
       "stars                                         0\n",
       "state                                         0\n",
       "attributes_AcceptsInsurance              144640\n",
       "attributes_AgesAllowed                   150216\n",
       "attributes_Alcohol                       107194\n",
       "attributes_Ambience                      106617\n",
       "attributes_BYOB                          145906\n",
       "attributes_BYOBCorkage                   148906\n",
       "attributes_BestNights                    144662\n",
       "attributes_BikeParking                    77787\n",
       "attributes_BusinessAcceptsBitcoin        132918\n",
       "attributes_BusinessAcceptsCreditCards     30654\n",
       "attributes_BusinessParking                61531\n",
       "attributes_ByAppointmentOnly             108046\n",
       "attributes_Caters                        110278\n",
       "attributes_CoatCheck                     144765\n",
       "attributes_Corkage                       146803\n",
       "attributes_DietaryRestrictions           150315\n",
       "attributes_DogsAllowed                   132087\n",
       "attributes_DriveThru                     143340\n",
       "attributes_GoodForDancing                145717\n",
       "attributes_GoodForKids                    96998\n",
       "attributes_GoodForMeal                   121561\n",
       "attributes_HairSpecializesIn             149310\n",
       "attributes_HappyHour                     135176\n",
       "attributes_HasTV                         105280\n",
       "attributes_Music                         142859\n",
       "attributes_NoiseLevel                    112391\n",
       "attributes_Open24Hours                   150306\n",
       "attributes_OutdoorSeating                103425\n",
       "attributes_RestaurantsAttire             111128\n",
       "attributes_RestaurantsCounterService     150326\n",
       "attributes_RestaurantsDelivery            98011\n",
       "attributes_RestaurantsGoodForGroups      106196\n",
       "attributes_RestaurantsPriceRange2         65065\n",
       "attributes_RestaurantsReservations       105386\n",
       "attributes_RestaurantsTableService       130378\n",
       "attributes_RestaurantsTakeOut             92593\n",
       "attributes_Smoking                       145792\n",
       "attributes_WheelchairAccessible          121419\n",
       "attributes_WiFi                           93481\n",
       "hours_Friday                              25346\n",
       "hours_Monday                              35871\n",
       "hours_Saturday                            39575\n",
       "hours_Sunday                              69173\n",
       "hours_Thursday                            25147\n",
       "hours_Tuesday                             29714\n",
       "hours_Wednesday                           26574\n",
       "dtype: int64"
      ]
     },
     "execution_count": 10,
     "metadata": {},
     "output_type": "execute_result"
    }
   ],
   "source": [
    "df.isnull().sum()"
   ]
  },
  {
   "cell_type": "code",
   "execution_count": 12,
   "id": "bee82abc-9f2f-47cc-9a40-4026404c42d8",
   "metadata": {},
   "outputs": [],
   "source": [
    "df.dropna(subset=['categories'], inplace=True)"
   ]
  },
  {
   "cell_type": "code",
   "execution_count": null,
   "id": "bfb17b53-cc7e-47cc-b374-4c7fc7213d7c",
   "metadata": {},
   "outputs": [],
   "source": [
    "restaurant_keywords = [\n",
    "    'Restaurants', 'Food', 'Bars', 'Bar', 'Nightlife',\n",
    "    'Coffee', 'Hotels', 'Sandwiches', 'Breakfast', \n",
    "    'Tea', 'Pizza', 'Burgers', 'Wine', 'Vegetarian', \n",
    "    'Clubs', 'Kitchen', 'Salad', 'Buffets'\n",
    "]\n",
    "# List most frequent words of restaurant categories"
   ]
  },
  {
   "cell_type": "code",
   "execution_count": null,
   "id": "26224c3d-d8d1-4972-9e61-bb753e1c9650",
   "metadata": {},
   "outputs": [],
   "source": [
    "restaurent_df = df[df['categories'].str.contains('|'.join(restaurant_keywords), case=False)]\n",
    "\n",
    "#make new df for restaurent"
   ]
  },
  {
   "cell_type": "code",
   "execution_count": 14,
   "id": "c621c496-c3a4-4e2f-ae75-41a532c4269b",
   "metadata": {},
   "outputs": [
    {
     "data": {
      "text/plain": [
       "(76193, 58)"
      ]
     },
     "execution_count": 14,
     "metadata": {},
     "output_type": "execute_result"
    }
   ],
   "source": [
    "restaurent_df.shape"
   ]
  },
  {
   "cell_type": "code",
   "execution_count": 28,
   "id": "d0c9510e-5f54-4b74-adb5-874c1ab75ed2",
   "metadata": {},
   "outputs": [],
   "source": [
    "saloon_keywords=['Beauty',  'Hair','Spas,','Waxing,','Stylists,', 'Makeup', 'Men\\'s', 'Nail', 'Salons', 'Spas', 'Stylists', 'Waxing', 'Women\\'s']\n",
    "# keywords for saloon"
   ]
  },
  {
   "cell_type": "code",
   "execution_count": 29,
   "id": "c9c31391-b62a-4bb5-aac2-081691de0f68",
   "metadata": {},
   "outputs": [],
   "source": [
    "saloon_df = df[df['categories'].str.contains('|'.join(saloon_keywords), case=False)]\n",
    "# make new df for saloon"
   ]
  },
  {
   "cell_type": "code",
   "execution_count": 30,
   "id": "c18029bb-715e-4b79-aec0-9348d408917f",
   "metadata": {},
   "outputs": [
    {
     "data": {
      "text/plain": [
       "(16666, 58)"
      ]
     },
     "execution_count": 30,
     "metadata": {},
     "output_type": "execute_result"
    }
   ],
   "source": [
    "saloon_df.shape"
   ]
  },
  {
   "cell_type": "code",
   "execution_count": 19,
   "id": "7d2e3c11-b99f-417b-bc7e-264ef4ff1700",
   "metadata": {},
   "outputs": [],
   "source": [
    "medical_keyword=['Health','Medical,','Medical','Dentists,','Doctors,','Doctors']\n",
    "# keywords for medical"
   ]
  },
  {
   "cell_type": "code",
   "execution_count": 20,
   "id": "0f6874b4-e6b7-4322-b36d-d51cd051ae13",
   "metadata": {},
   "outputs": [],
   "source": [
    "medical_df = df[df['categories'].str.contains('|'.join(medical_keyword), case=False)]\n",
    "#new df for medical"
   ]
  },
  {
   "cell_type": "code",
   "execution_count": 21,
   "id": "f733d248-78d3-4e16-ad01-221b28555f2e",
   "metadata": {},
   "outputs": [
    {
     "data": {
      "text/plain": [
       "(12492, 58)"
      ]
     },
     "execution_count": 21,
     "metadata": {},
     "output_type": "execute_result"
    }
   ],
   "source": [
    "medical_df.shape"
   ]
  },
  {
   "cell_type": "code",
   "execution_count": 24,
   "id": "383ff009-6082-40fd-9829-9a7e25732a14",
   "metadata": {},
   "outputs": [
    {
     "data": {
      "text/plain": [
       "3     Restaurants, Food, Bubble Tea, Coffee & Tea, B...\n",
       "4                             Brewpubs, Breweries, Food\n",
       "5     Burgers, Fast Food, Sandwiches, Food, Ice Crea...\n",
       "8     Pubs, Restaurants, Italian, Bars, American (Tr...\n",
       "9     Ice Cream & Frozen Yogurt, Fast Food, Burgers,...\n",
       "11           Vietnamese, Food, Restaurants, Food Trucks\n",
       "12    American (Traditional), Restaurants, Diners, B...\n",
       "14          Food, Delis, Italian, Bakeries, Restaurants\n",
       "15                    Sushi Bars, Restaurants, Japanese\n",
       "18    Automotive, Car Rental, Hotels & Travel, Truck...\n",
       "19                                  Korean, Restaurants\n",
       "20    Coffee & Tea, Food, Cafes, Bars, Wine Bars, Re...\n",
       "22               Steakhouses, Asian Fusion, Restaurants\n",
       "23                                 Restaurants, Italian\n",
       "24                                Hot Dogs, Restaurants\n",
       "27                       Restaurants, Japanese, Seafood\n",
       "28    Cocktail Bars, Bars, Italian, Nightlife, Resta...\n",
       "29        Pizza, Chicken Wings, Sandwiches, Restaurants\n",
       "31                      Pizza, Restaurants, Salad, Soup\n",
       "32    Dance Wear, Sports Wear, Children's Clothing, ...\n",
       "33                                   Pizza, Restaurants\n",
       "34    Event Planning & Services, Hotels, Hotels & Tr...\n",
       "35    Eatertainment, Arts & Entertainment, Brewpubs,...\n",
       "36                                 Restaurants, Burgers\n",
       "39    Musicians, DJs, Karaoke, Event Planning & Serv...\n",
       "41    Restaurants, Specialty Food, Steakhouses, Food...\n",
       "45                                 Restaurants, Chinese\n",
       "46    Arts & Entertainment, Music Venues, Internet S...\n",
       "47    Coffee & Tea, Restaurants, Wine Bars, Bars, Ni...\n",
       "49                                 Restaurants, Italian\n",
       "52       Specialty Food, Bakeries, Food, Health Markets\n",
       "53    Coffee & Tea, Cafes, Pets, Restaurants, Pet Ad...\n",
       "54                    Food, Grocery, Convenience Stores\n",
       "55    Hotels, Hotels & Travel, Event Planning & Serv...\n",
       "56    Vitamins & Supplements, Ice Cream & Frozen Yog...\n",
       "58                 Restaurants, American (New), Italian\n",
       "59                                   Restaurants, Pizza\n",
       "60                  Restaurants, Soup, Seafood, Burgers\n",
       "61    Sports Bars, American (New), American (Traditi...\n",
       "62    Gastropubs, Cocktail Bars, Beer Bar, Bars, Res...\n",
       "64    Seafood, Restaurants, Bars, Nightlife, Cocktai...\n",
       "65                 Hotels & Travel, Tours, Local Flavor\n",
       "67    Towing, Hotels & Travel, Automotive, Motorcycl...\n",
       "68    Chocolatiers & Shops, Specialty Food, Candy St...\n",
       "69                                        Food, Grocery\n",
       "70                                    Food Trucks, Food\n",
       "73    American (Traditional), Bars, Nightlife, Sport...\n",
       "75    American (Traditional), Sports Bars, Restauran...\n",
       "76                                        Food, Grocery\n",
       "78                                 Italian, Restaurants\n",
       "Name: categories, dtype: object"
      ]
     },
     "execution_count": 24,
     "metadata": {},
     "output_type": "execute_result"
    }
   ],
   "source": [
    "restaurent_df['categories'].head(50)"
   ]
  },
  {
   "cell_type": "code",
   "execution_count": 26,
   "id": "ed362996-9ee3-4561-93ea-47c13bce507e",
   "metadata": {},
   "outputs": [
    {
     "data": {
      "text/plain": [
       "0      Doctors, Traditional Chinese Medicine, Naturop...\n",
       "13     General Dentistry, Dentists, Health & Medical,...\n",
       "43     Health & Medical, Beauty & Spas, Laser Hair Re...\n",
       "52        Specialty Food, Bakeries, Food, Health Markets\n",
       "57     Ophthalmologists, Eyewear & Opticians, Health ...\n",
       "74     Health & Medical, Personal Care Services, Beau...\n",
       "100    Fitness & Instruction, Physical Therapy, Healt...\n",
       "111    Eyewear & Opticians, Health & Medical, Shoppin...\n",
       "128    Medical Centers, Doctors, Diagnostic Services,...\n",
       "137    Pain Management, Doctors, Health & Medical, Os...\n",
       "139    Food, Organic Stores, Specialty Food, Health M...\n",
       "146         Doctors, Internal Medicine, Health & Medical\n",
       "156    Massage, Health & Medical, Medical Spas, Beaut...\n",
       "166                        Health & Medical, Urgent Care\n",
       "169    Pharmacy, Health & Medical, Convenience Stores...\n",
       "174    Weight Loss Centers, Health & Medical, Life Co...\n",
       "178                      Health & Medical, Chiropractors\n",
       "184                    Medical Centers, Health & Medical\n",
       "204    Endodontists, General Dentistry, Health & Medi...\n",
       "215    Health & Medical, Doctors, Medical Centers, Lo...\n",
       "226             Doctors, Pediatricians, Health & Medical\n",
       "255    Fitness & Instruction, Gyms, Weight Loss Cente...\n",
       "257    Drugstores, Pharmacy, Health & Medical, Conven...\n",
       "260    Health & Medical, Doctors, Endocrinologists, I...\n",
       "265    Diagnostic Imaging, Diagnostic Services, Healt...\n",
       "281    Orthodontists, Health & Medical, Oral Surgeons...\n",
       "285    Health & Medical, Medical Spas, Beauty & Spas,...\n",
       "311              Radiologists, Doctors, Health & Medical\n",
       "356    Local Services, Community Service/Non-Profit, ...\n",
       "374    Eyewear & Opticians, Sporting Goods, Shopping,...\n",
       "380    Doctors, Health & Medical, Urgent Care, Walk-i...\n",
       "399            Health & Medical, Dermatologists, Doctors\n",
       "400    Health & Medical, Obstetricians & Gynecologist...\n",
       "416        General Dentistry, Dentists, Health & Medical\n",
       "419    Eyewear & Opticians, Shopping, Health & Medica...\n",
       "433    Fitness & Instruction, Food, Shopping, Health ...\n",
       "455               Health & Medical, Urgent Care, Doctors\n",
       "458                            Doctors, Health & Medical\n",
       "468            Hospitals, Health & Medical, Optometrists\n",
       "478    Beauty & Spas, Nutritionists, Medical Spas, La...\n",
       "484    Weight Loss Centers, Food, Health Markets, Hea...\n",
       "508    Shopping, Cannabis Collective, Cannabis Clinic...\n",
       "517                        Health & Medical, Urgent Care\n",
       "538    Weight Loss Centers, Health & Medical, Beauty ...\n",
       "547    Health & Medical, Beauty & Spas, Skin Care, Ac...\n",
       "579    Orthodontists, Health & Medical, Pediatric Den...\n",
       "582    Nutritionists, Weight Loss Centers, Health & M...\n",
       "585    Health & Medical, Beauty & Spas, Massage Thera...\n",
       "622    Cosmetic Dentists, Health & Medical, Endodonti...\n",
       "651    Urgent Care, Pediatricians, Doctors, Health & ...\n",
       "Name: categories, dtype: object"
      ]
     },
     "execution_count": 26,
     "metadata": {},
     "output_type": "execute_result"
    }
   ],
   "source": [
    "medical_df['categories'].head(50)"
   ]
  },
  {
   "cell_type": "code",
   "execution_count": 31,
   "id": "54d9ebc8-e396-4d1c-a97d-a30ed3104a53",
   "metadata": {},
   "outputs": [
    {
     "data": {
      "text/plain": [
       "26     Women's Clothing, Accessories, Children's Clot...\n",
       "40     Hair Salons, Hair Extensions, Beauty & Spas, W...\n",
       "43     Health & Medical, Beauty & Spas, Laser Hair Re...\n",
       "74     Health & Medical, Personal Care Services, Beau...\n",
       "92                     Fashion, Shopping, Men's Clothing\n",
       "101    Women's Clothing, Men's Clothing, Accessories,...\n",
       "123                               Barbers, Beauty & Spas\n",
       "149                    Fashion, Shopping, Men's Clothing\n",
       "156    Massage, Health & Medical, Medical Spas, Beaut...\n",
       "170                                Beauty & Spas, Tattoo\n",
       "173    Waxing, Hair Removal, Skin Care, Eyelash Servi...\n",
       "179    Beauty & Spas, Hair Stylists, Hair Extensions,...\n",
       "181    Venues & Event Spaces, Performing Arts, Arts &...\n",
       "212    Makeup Artists, Beauty & Spas, Hair Salons, Ha...\n",
       "214                               Barbers, Beauty & Spas\n",
       "233     Beauty & Spas, Hair Removal, Day Spas, Skin Care\n",
       "250     Beauty & Spas, Waxing, Nail Salons, Hair Removal\n",
       "267                    Fashion, Men's Clothing, Shopping\n",
       "280                      Beauty & Spas, Piercing, Tattoo\n",
       "285    Health & Medical, Medical Spas, Beauty & Spas,...\n",
       "287                               Barbers, Beauty & Spas\n",
       "289    Photography Stores & Services, Beauty & Spas, ...\n",
       "294    Makeup Artists, Blow Dry/Out Services, Beauty ...\n",
       "295    Men's Hair Salons, Waxing, Hair Salons, Skin C...\n",
       "299                           Beauty & Spas, Hair Salons\n",
       "302                      Beauty & Spas, Tattoo, Piercing\n",
       "305              Nail Salons, Beauty & Spas, Hair Salons\n",
       "310    Men's Clothing, Women's Clothing, Children's C...\n",
       "314    Beauty & Spas, Eyelash Service, Skin Care, Tan...\n",
       "323                               Massage, Beauty & Spas\n",
       "362                           Beauty & Spas, Nail Salons\n",
       "364                     Day Spas, Massage, Beauty & Spas\n",
       "377    Day Spas, Skin Care, Eyebrow Services, Hair Lo...\n",
       "388                               Beauty & Spas, Barbers\n",
       "396                               Beauty & Spas, Massage\n",
       "398    Barbers, Education, Hair Salons, Cosmetology S...\n",
       "404                               Barbers, Beauty & Spas\n",
       "412    Arts & Entertainment, Shopping, Art Galleries,...\n",
       "421    Shopping, Hair Salons, Professional Services, ...\n",
       "423    Beauty & Spas, Shopping, Cosmetics & Beauty Su...\n",
       "433    Fitness & Instruction, Food, Shopping, Health ...\n",
       "434    Eyebrow Services, Hair Salons, Makeup Artists,...\n",
       "439    Baby Gear & Furniture, Fashion, Appliances, Wo...\n",
       "459                               Barbers, Beauty & Spas\n",
       "478    Beauty & Spas, Nutritionists, Medical Spas, La...\n",
       "483                 Day Spas, Beauty & Spas, Hair Salons\n",
       "487    Hair Salons, Barbers, Beauty & Spas, Men's Hai...\n",
       "488                           Beauty & Spas, Hair Salons\n",
       "489    Hair Salons, Hair Stylists, Beauty & Spas, Hai...\n",
       "491    Hair Salons, Eyebrow Services, Waxing, Hair Ex...\n",
       "Name: categories, dtype: object"
      ]
     },
     "execution_count": 31,
     "metadata": {},
     "output_type": "execute_result"
    }
   ],
   "source": [
    "saloon_df['categories'].head(50)"
   ]
  },
  {
   "cell_type": "code",
   "execution_count": 32,
   "id": "aeb17cdd-3645-4355-80f1-2c6f60cd2fe5",
   "metadata": {},
   "outputs": [],
   "source": [
    "saloon_df.to_csv('saloon_df.csv', index=False)\n",
    "# save saloon csv"
   ]
  },
  {
   "cell_type": "code",
   "execution_count": 33,
   "id": "8b360a8f-2d74-4d64-becf-bd02811d9d20",
   "metadata": {},
   "outputs": [],
   "source": [
    "restaurent_df.to_csv('restaurent_df.csv', index=False)\n",
    "# save restaurent csv"
   ]
  },
  {
   "cell_type": "code",
   "execution_count": 34,
   "id": "9e07fa1c-bbf9-456e-bbc5-3b6c5d622246",
   "metadata": {},
   "outputs": [],
   "source": [
    "medical_df.to_csv('medical_df.csv', index=False)\n",
    "# save medical csv"
   ]
  },
  {
   "cell_type": "code",
   "execution_count": 35,
   "id": "acdf4ac0-9763-4f66-9708-149e91618f88",
   "metadata": {},
   "outputs": [
    {
     "data": {
      "text/plain": [
       "address                                    187\n",
       "business_id                                  0\n",
       "categories                                   0\n",
       "city                                         0\n",
       "is_open                                      0\n",
       "latitude                                     0\n",
       "longitude                                    0\n",
       "name                                         0\n",
       "postal_code                                  2\n",
       "review_count                                 0\n",
       "stars                                        0\n",
       "state                                        0\n",
       "attributes_AcceptsInsurance               7109\n",
       "attributes_AgesAllowed                   12492\n",
       "attributes_Alcohol                       12289\n",
       "attributes_Ambience                      12373\n",
       "attributes_BYOB                          12477\n",
       "attributes_BYOBCorkage                   12488\n",
       "attributes_BestNights                    12491\n",
       "attributes_BikeParking                    9142\n",
       "attributes_BusinessAcceptsBitcoin        11618\n",
       "attributes_BusinessAcceptsCreditCards     3041\n",
       "attributes_BusinessParking                8574\n",
       "attributes_ByAppointmentOnly              2755\n",
       "attributes_Caters                        12045\n",
       "attributes_CoatCheck                     12483\n",
       "attributes_Corkage                       12477\n",
       "attributes_DietaryRestrictions           12491\n",
       "attributes_DogsAllowed                   11968\n",
       "attributes_DriveThru                     12056\n",
       "attributes_GoodForDancing                12488\n",
       "attributes_GoodForKids                   11770\n",
       "attributes_GoodForMeal                   12401\n",
       "attributes_HairSpecializesIn             12457\n",
       "attributes_HappyHour                     12424\n",
       "attributes_HasTV                         12343\n",
       "attributes_Music                         12485\n",
       "attributes_NoiseLevel                    12320\n",
       "attributes_Open24Hours                   12489\n",
       "attributes_OutdoorSeating                12324\n",
       "attributes_RestaurantsAttire             12392\n",
       "attributes_RestaurantsCounterService     12492\n",
       "attributes_RestaurantsDelivery           11590\n",
       "attributes_RestaurantsGoodForGroups      12379\n",
       "attributes_RestaurantsPriceRange2         9317\n",
       "attributes_RestaurantsReservations       12342\n",
       "attributes_RestaurantsTableService       12407\n",
       "attributes_RestaurantsTakeOut            11485\n",
       "attributes_Smoking                       12455\n",
       "attributes_WheelchairAccessible          10404\n",
       "attributes_WiFi                           9262\n",
       "hours_Friday                              2318\n",
       "hours_Monday                              1873\n",
       "hours_Saturday                            6357\n",
       "hours_Sunday                              8866\n",
       "hours_Thursday                            1661\n",
       "hours_Tuesday                             1690\n",
       "hours_Wednesday                           1714\n",
       "dtype: int64"
      ]
     },
     "execution_count": 35,
     "metadata": {},
     "output_type": "execute_result"
    }
   ],
   "source": [
    "medical_df.isnull().sum()"
   ]
  },
  {
   "cell_type": "code",
   "execution_count": 45,
   "id": "de1e9c3c-9fa8-4507-bf1c-973be81b6b2c",
   "metadata": {},
   "outputs": [],
   "source": [
    "medical_df2=medical_df[['address','business_id','categories','city','is_open','latitude','longitude','name','postal_code','review_count','stars','state']]"
   ]
  },
  {
   "cell_type": "code",
   "execution_count": 46,
   "id": "ab37a64c-bf61-4240-b419-d18b975ec27f",
   "metadata": {},
   "outputs": [
    {
     "data": {
      "text/plain": [
       "(12492, 12)"
      ]
     },
     "execution_count": 46,
     "metadata": {},
     "output_type": "execute_result"
    }
   ],
   "source": [
    "#medical_df2.shape"
   ]
  },
  {
   "cell_type": "code",
   "execution_count": 132,
   "id": "6aa9635e-b642-4708-b5a7-83e202486206",
   "metadata": {},
   "outputs": [
    {
     "data": {
      "text/plain": [
       "business_id\n",
       "Pns2l4eNsfO8kk83dixA6A    1\n",
       "APr7s73xPQBQlQD90wts3w    1\n",
       "aG4xsXJS_DgnDQYnflw7WQ    1\n",
       "JtAp-rbT2e_d6jRwGPSvCA    1\n",
       "lVmJjNu_WjBsS8TfFOYvWQ    1\n",
       "                         ..\n",
       "SEWpBKC0Dp1w4qItJZa_yA    1\n",
       "sFHkYIL7oQlWcNYOSVWkoA    1\n",
       "T6a8PIgFxOh9qLNfXTn0bw    1\n",
       "h3WFtU8bprxlp1YG5oK7Gw    1\n",
       "fn3ybdsRSrIDpKZTsRuAWg    1\n",
       "Name: count, Length: 12304, dtype: int64"
      ]
     },
     "execution_count": 132,
     "metadata": {},
     "output_type": "execute_result"
    }
   ],
   "source": [
    "#medical_df2['business_id'].value_counts()"
   ]
  },
  {
   "cell_type": "code",
   "execution_count": 47,
   "id": "bd6ea4af-28c7-446d-9968-e870e89219f6",
   "metadata": {},
   "outputs": [
    {
     "name": "stdout",
     "output_type": "stream",
     "text": [
      "<class 'pandas.core.frame.DataFrame'>\n",
      "Index: 12492 entries, 0 to 150337\n",
      "Data columns (total 12 columns):\n",
      " #   Column        Non-Null Count  Dtype  \n",
      "---  ------        --------------  -----  \n",
      " 0   address       12305 non-null  object \n",
      " 1   business_id   12492 non-null  object \n",
      " 2   categories    12492 non-null  object \n",
      " 3   city          12492 non-null  object \n",
      " 4   is_open       12492 non-null  int64  \n",
      " 5   latitude      12492 non-null  float64\n",
      " 6   longitude     12492 non-null  float64\n",
      " 7   name          12492 non-null  object \n",
      " 8   postal_code   12490 non-null  object \n",
      " 9   review_count  12492 non-null  int64  \n",
      " 10  stars         12492 non-null  float64\n",
      " 11  state         12492 non-null  object \n",
      "dtypes: float64(3), int64(2), object(7)\n",
      "memory usage: 1.2+ MB\n"
     ]
    }
   ],
   "source": [
    "#medical_df2.info()"
   ]
  },
  {
   "cell_type": "code",
   "execution_count": 52,
   "id": "4c1b8759-631b-42bb-a65e-ac0a5585a00e",
   "metadata": {},
   "outputs": [
    {
     "data": {
      "text/plain": [
       "address         187\n",
       "business_id       0\n",
       "categories        0\n",
       "city              0\n",
       "is_open           0\n",
       "latitude          0\n",
       "longitude         0\n",
       "name              0\n",
       "postal_code       2\n",
       "review_count      0\n",
       "stars             0\n",
       "state             0\n",
       "dtype: int64"
      ]
     },
     "execution_count": 52,
     "metadata": {},
     "output_type": "execute_result"
    }
   ],
   "source": [
    "medical_df2.isnull().sum()"
   ]
  },
  {
   "cell_type": "code",
   "execution_count": 54,
   "id": "bfba8551-d728-4139-8932-8f4bfb69c851",
   "metadata": {},
   "outputs": [
    {
     "name": "stderr",
     "output_type": "stream",
     "text": [
      "C:\\Users\\Kunal Karne\\AppData\\Local\\Temp\\ipykernel_16176\\1170679005.py:1: SettingWithCopyWarning: \n",
      "A value is trying to be set on a copy of a slice from a DataFrame\n",
      "\n",
      "See the caveats in the documentation: https://pandas.pydata.org/pandas-docs/stable/user_guide/indexing.html#returning-a-view-versus-a-copy\n",
      "  medical_df2.dropna(inplace=True)\n"
     ]
    }
   ],
   "source": [
    "medical_df2.dropna(inplace=True)"
   ]
  },
  {
   "cell_type": "code",
   "execution_count": 56,
   "id": "485c9012-f170-4261-af5c-1def534f94c3",
   "metadata": {},
   "outputs": [
    {
     "data": {
      "text/plain": [
       "address         0\n",
       "business_id     0\n",
       "categories      0\n",
       "city            0\n",
       "is_open         0\n",
       "latitude        0\n",
       "longitude       0\n",
       "name            0\n",
       "postal_code     0\n",
       "review_count    0\n",
       "stars           0\n",
       "state           0\n",
       "dtype: int64"
      ]
     },
     "execution_count": 56,
     "metadata": {},
     "output_type": "execute_result"
    }
   ],
   "source": [
    "medical_df2.isnull().sum()\n"
   ]
  },
  {
   "cell_type": "code",
   "execution_count": 55,
   "id": "c2b34546-9894-4e81-b6eb-bf6abfaad448",
   "metadata": {},
   "outputs": [
    {
     "data": {
      "text/html": [
       "<div>\n",
       "<style scoped>\n",
       "    .dataframe tbody tr th:only-of-type {\n",
       "        vertical-align: middle;\n",
       "    }\n",
       "\n",
       "    .dataframe tbody tr th {\n",
       "        vertical-align: top;\n",
       "    }\n",
       "\n",
       "    .dataframe thead th {\n",
       "        text-align: right;\n",
       "    }\n",
       "</style>\n",
       "<table border=\"1\" class=\"dataframe\">\n",
       "  <thead>\n",
       "    <tr style=\"text-align: right;\">\n",
       "      <th></th>\n",
       "      <th>address</th>\n",
       "      <th>business_id</th>\n",
       "      <th>categories</th>\n",
       "      <th>city</th>\n",
       "      <th>is_open</th>\n",
       "      <th>latitude</th>\n",
       "      <th>longitude</th>\n",
       "      <th>name</th>\n",
       "      <th>postal_code</th>\n",
       "      <th>review_count</th>\n",
       "      <th>stars</th>\n",
       "      <th>state</th>\n",
       "    </tr>\n",
       "  </thead>\n",
       "  <tbody>\n",
       "    <tr>\n",
       "      <th>0</th>\n",
       "      <td>1616 Chapala St, Ste 2</td>\n",
       "      <td>Pns2l4eNsfO8kk83dixA6A</td>\n",
       "      <td>Doctors, Traditional Chinese Medicine, Naturop...</td>\n",
       "      <td>Santa Barbara</td>\n",
       "      <td>0</td>\n",
       "      <td>34.426679</td>\n",
       "      <td>-119.711197</td>\n",
       "      <td>Abby Rappoport, LAC, CMQ</td>\n",
       "      <td>93101</td>\n",
       "      <td>7</td>\n",
       "      <td>5.0</td>\n",
       "      <td>CA</td>\n",
       "    </tr>\n",
       "    <tr>\n",
       "      <th>13</th>\n",
       "      <td>15 N Missouri Ave</td>\n",
       "      <td>jaxMSoInw8Poo3XeMJt8lQ</td>\n",
       "      <td>General Dentistry, Dentists, Health &amp; Medical,...</td>\n",
       "      <td>Clearwater</td>\n",
       "      <td>1</td>\n",
       "      <td>27.966235</td>\n",
       "      <td>-82.787412</td>\n",
       "      <td>Adams Dental</td>\n",
       "      <td>33755</td>\n",
       "      <td>10</td>\n",
       "      <td>5.0</td>\n",
       "      <td>FL</td>\n",
       "    </tr>\n",
       "    <tr>\n",
       "      <th>43</th>\n",
       "      <td>2 Bala Plz, Ste PL-11</td>\n",
       "      <td>Kq51_lGAgAigqmENITTr-A</td>\n",
       "      <td>Health &amp; Medical, Beauty &amp; Spas, Laser Hair Re...</td>\n",
       "      <td>Bala Cynwyd</td>\n",
       "      <td>1</td>\n",
       "      <td>40.006870</td>\n",
       "      <td>-75.217262</td>\n",
       "      <td>Bala Better Health</td>\n",
       "      <td>19004</td>\n",
       "      <td>13</td>\n",
       "      <td>4.0</td>\n",
       "      <td>PA</td>\n",
       "    </tr>\n",
       "    <tr>\n",
       "      <th>52</th>\n",
       "      <td>11642 104 Avenue, Unit 642</td>\n",
       "      <td>5BmQX4UVJY19mMtafMg7JA</td>\n",
       "      <td>Specialty Food, Bakeries, Food, Health Markets</td>\n",
       "      <td>Edmonton</td>\n",
       "      <td>1</td>\n",
       "      <td>53.547205</td>\n",
       "      <td>-113.522448</td>\n",
       "      <td>Breadland Organic Whole Grain Bakery</td>\n",
       "      <td>T5K 2T7</td>\n",
       "      <td>23</td>\n",
       "      <td>4.0</td>\n",
       "      <td>AB</td>\n",
       "    </tr>\n",
       "    <tr>\n",
       "      <th>57</th>\n",
       "      <td>1150 Plymouth Meeting Mall, Ste 2230</td>\n",
       "      <td>DQ7PyYlp2bX96WZa7TcaWQ</td>\n",
       "      <td>Ophthalmologists, Eyewear &amp; Opticians, Health ...</td>\n",
       "      <td>Plymouth Meeting</td>\n",
       "      <td>1</td>\n",
       "      <td>40.116179</td>\n",
       "      <td>-75.282525</td>\n",
       "      <td>LensCrafters</td>\n",
       "      <td>19462</td>\n",
       "      <td>8</td>\n",
       "      <td>2.5</td>\n",
       "      <td>PA</td>\n",
       "    </tr>\n",
       "  </tbody>\n",
       "</table>\n",
       "</div>"
      ],
      "text/plain": [
       "                                 address             business_id  \\\n",
       "0                 1616 Chapala St, Ste 2  Pns2l4eNsfO8kk83dixA6A   \n",
       "13                     15 N Missouri Ave  jaxMSoInw8Poo3XeMJt8lQ   \n",
       "43                 2 Bala Plz, Ste PL-11  Kq51_lGAgAigqmENITTr-A   \n",
       "52            11642 104 Avenue, Unit 642  5BmQX4UVJY19mMtafMg7JA   \n",
       "57  1150 Plymouth Meeting Mall, Ste 2230  DQ7PyYlp2bX96WZa7TcaWQ   \n",
       "\n",
       "                                           categories              city  \\\n",
       "0   Doctors, Traditional Chinese Medicine, Naturop...     Santa Barbara   \n",
       "13  General Dentistry, Dentists, Health & Medical,...        Clearwater   \n",
       "43  Health & Medical, Beauty & Spas, Laser Hair Re...       Bala Cynwyd   \n",
       "52     Specialty Food, Bakeries, Food, Health Markets          Edmonton   \n",
       "57  Ophthalmologists, Eyewear & Opticians, Health ...  Plymouth Meeting   \n",
       "\n",
       "    is_open   latitude   longitude                                  name  \\\n",
       "0         0  34.426679 -119.711197              Abby Rappoport, LAC, CMQ   \n",
       "13        1  27.966235  -82.787412                          Adams Dental   \n",
       "43        1  40.006870  -75.217262                    Bala Better Health   \n",
       "52        1  53.547205 -113.522448  Breadland Organic Whole Grain Bakery   \n",
       "57        1  40.116179  -75.282525                          LensCrafters   \n",
       "\n",
       "   postal_code  review_count  stars state  \n",
       "0        93101             7    5.0    CA  \n",
       "13       33755            10    5.0    FL  \n",
       "43       19004            13    4.0    PA  \n",
       "52     T5K 2T7            23    4.0    AB  \n",
       "57       19462             8    2.5    PA  "
      ]
     },
     "execution_count": 55,
     "metadata": {},
     "output_type": "execute_result"
    }
   ],
   "source": [
    "medical_df2.head()"
   ]
  },
  {
   "cell_type": "raw",
   "id": "2662dfa9-b2a5-40f5-a879-53be61a9473b",
   "metadata": {},
   "source": [
    "merged_df['compliment_count'].value_counts()"
   ]
  },
  {
   "cell_type": "code",
   "execution_count": 139,
   "id": "e02a3993-5f99-4a81-8dfc-c38f6638da2b",
   "metadata": {},
   "outputs": [
    {
     "data": {
      "text/plain": [
       "(6114275, 24)"
      ]
     },
     "execution_count": 139,
     "metadata": {},
     "output_type": "execute_result"
    }
   ],
   "source": [
    "merged_df.shape"
   ]
  },
  {
   "cell_type": "code",
   "execution_count": null,
   "id": "d5d0d480-0bbe-447e-8458-8ce7663640e3",
   "metadata": {},
   "outputs": [],
   "source": []
  }
 ],
 "metadata": {
  "kernelspec": {
   "display_name": "Python 3 (ipykernel)",
   "language": "python",
   "name": "python3"
  },
  "language_info": {
   "codemirror_mode": {
    "name": "ipython",
    "version": 3
   },
   "file_extension": ".py",
   "mimetype": "text/x-python",
   "name": "python",
   "nbconvert_exporter": "python",
   "pygments_lexer": "ipython3",
   "version": "3.11.7"
  }
 },
 "nbformat": 4,
 "nbformat_minor": 5
}
